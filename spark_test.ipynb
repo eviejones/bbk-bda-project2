{
 "cells": [
  {
   "cell_type": "code",
   "execution_count": 1,
   "id": "9475e38e",
   "metadata": {},
   "outputs": [],
   "source": [
    "from pyspark.sql import SparkSession\n",
    "\n",
    "spark = SparkSession.builder.appName(\"My app\").getOrCreate()"
   ]
  },
  {
   "cell_type": "code",
   "execution_count": 3,
   "id": "d9d041d4",
   "metadata": {},
   "outputs": [],
   "source": [
    "df = spark.read.csv('metadata_output/combined_metadata.csv', header=True, inferSchema=True)"
   ]
  },
  {
   "cell_type": "code",
   "execution_count": 4,
   "id": "cd72a7fa",
   "metadata": {},
   "outputs": [
    {
     "name": "stdout",
     "output_type": "stream",
     "text": [
      "root\n",
      " |-- id: string (nullable = true)\n",
      " |-- title: string (nullable = true)\n",
      " |-- uploader: string (nullable = true)\n",
      " |-- artist: string (nullable = true)\n",
      " |-- tags: string (nullable = true)\n",
      " |-- duration_seconds: integer (nullable = true)\n",
      " |-- upload_date: date (nullable = true)\n",
      " |-- view_count: integer (nullable = true)\n",
      " |-- like_count: integer (nullable = true)\n",
      " |-- tag_count: integer (nullable = true)\n",
      " |-- year_uploaded: date (nullable = true)\n",
      "\n"
     ]
    }
   ],
   "source": [
    "df.printSchema()"
   ]
  },
  {
   "cell_type": "code",
   "execution_count": 5,
   "id": "deecbd92",
   "metadata": {},
   "outputs": [
    {
     "name": "stdout",
     "output_type": "stream",
     "text": [
      "+--------------------+-----------+\n",
      "|               title|upload_date|\n",
      "+--------------------+-----------+\n",
      "|Chappell Roan - T...| 2025-03-14|\n",
      "|Charlie Chaplin -...| 2016-03-10|\n",
      "|Fleetwood Mac - S...| 2018-09-27|\n",
      "|Liz Lawrence - No...| 2019-10-02|\n",
      "|Mozart - Classica...| 2018-12-31|\n",
      "+--------------------+-----------+\n",
      "only showing top 5 rows\n"
     ]
    }
   ],
   "source": [
    "df.select(\"title\",\"upload_date\").show(5)"
   ]
  },
  {
   "cell_type": "code",
   "execution_count": null,
   "id": "5b41b301",
   "metadata": {},
   "outputs": [],
   "source": []
  }
 ],
 "metadata": {
  "kernelspec": {
   "display_name": ".bda",
   "language": "python",
   "name": "python3"
  },
  "language_info": {
   "codemirror_mode": {
    "name": "ipython",
    "version": 3
   },
   "file_extension": ".py",
   "mimetype": "text/x-python",
   "name": "python",
   "nbconvert_exporter": "python",
   "pygments_lexer": "ipython3",
   "version": "3.13.3"
  }
 },
 "nbformat": 4,
 "nbformat_minor": 5
}
