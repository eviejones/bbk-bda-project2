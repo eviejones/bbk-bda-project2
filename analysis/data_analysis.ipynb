{
 "cells": [
  {
   "cell_type": "code",
   "execution_count": 1,
   "id": "58068df5",
   "metadata": {},
   "outputs": [],
   "source": [
    "import pyspark.sql.functions as sf\n",
    "import pandas as pd\n",
    "from pyspark.sql import SparkSession\n",
    "import matplotlib.pyplot as plt"
   ]
  },
  {
   "cell_type": "code",
   "execution_count": 7,
   "id": "5ec743a7",
   "metadata": {},
   "outputs": [],
   "source": [
    "# Create pandas DataFrame\n",
    "df_pd = pd.read_csv(\"../metadata_output/combined_metadata.csv\")"
   ]
  },
  {
   "cell_type": "code",
   "execution_count": 8,
   "id": "d2b644b2",
   "metadata": {},
   "outputs": [],
   "source": [
    "# Create Spark DataFrame\n",
    "spark = SparkSession.builder.appName(\"Data Analysis App\").getOrCreate()\n",
    "df_sp = spark.read.csv(\n",
    "    \"../metadata_output/combined_metadata.csv\", header=True, inferSchema=True\n",
    ")"
   ]
  },
  {
   "cell_type": "markdown",
   "id": "b0b201e6",
   "metadata": {},
   "source": [
    "3.1 Descriptive Statistics"
   ]
  },
  {
   "cell_type": "code",
   "execution_count": 9,
   "id": "eb7da6b5",
   "metadata": {},
   "outputs": [
    {
     "name": "stdout",
     "output_type": "stream",
     "text": [
      "[Pandas] Average duration of all videos: 925.00 seconds\n",
      "[Spark] Average duration of all videos:\n",
      "+---------------------+\n",
      "|avg(duration_seconds)|\n",
      "+---------------------+\n",
      "|                925.0|\n",
      "+---------------------+\n",
      "\n"
     ]
    }
   ],
   "source": [
    "# 1. What is the average duration (in seconds) of all videos in the dataset?\n",
    "average_duration_pd = df_pd[\"duration_seconds\"].mean()\n",
    "print(f\"[Pandas] Average duration of all videos: {average_duration_pd:.2f} seconds\")\n",
    "\n",
    "average_duration_sp = df_sp.select(sf.mean(\"duration_seconds\"))\n",
    "print(\"[Spark] Average duration of all videos:\")\n",
    "average_duration_sp.show()"
   ]
  },
  {
   "cell_type": "code",
   "execution_count": 10,
   "id": "e2d4e7bc",
   "metadata": {},
   "outputs": [
    {
     "name": "stdout",
     "output_type": "stream",
     "text": [
      "[Pandas] Most frequent uploader: Chappell Roan\n",
      "[Spark] Most frequent uploader:\n",
      "+-------------+-----+\n",
      "|     uploader|count|\n",
      "+-------------+-----+\n",
      "|Chappell Roan|    2|\n",
      "+-------------+-----+\n",
      "\n"
     ]
    }
   ],
   "source": [
    "# 2. Which uploader appears most frequently in the dataset?\n",
    "mode_uploader_pd = df_pd[\"uploader\"].mode()\n",
    "print(f\"[Pandas] Most frequent uploader: {mode_uploader_pd[0]}\")\n",
    "\n",
    "mode_uploader_sp = df_sp.groupBy(\"uploader\").count().orderBy(sf.desc(\"count\")).limit(1)\n",
    "print(\"[Spark] Most frequent uploader:\")\n",
    "mode_uploader_sp.show()"
   ]
  },
  {
   "cell_type": "code",
   "execution_count": 11,
   "id": "9841cba1",
   "metadata": {},
   "outputs": [
    {
     "name": "stdout",
     "output_type": "stream",
     "text": [
      "[Pandas] Top 5 videos by view count:                                                                          title  view_count\n",
      "                         Chappell Roan - Pink Pony Club (Official Music Video)    78883923\n",
      "                   Fleetwood Mac - Silver Springs (Live) (Official Video) [HD]    48858370\n",
      "                        Charlie Chaplin - Final Speech from The Great Dictator     9752840\n",
      "                              Chappell Roan - The Giver (Official Lyric Video)     7337351\n",
      "One of The Greatest Speeches Ever by President Obama | Best Eye Opening Speech     2271503\n",
      "[Spark] Top 5 videos by view count:\n",
      "+--------------------+----------+\n",
      "|               title|view_count|\n",
      "+--------------------+----------+\n",
      "|Chappell Roan - P...|  78883923|\n",
      "|Fleetwood Mac - S...|  48858370|\n",
      "|Charlie Chaplin -...|   9752840|\n",
      "|Chappell Roan - T...|   7337351|\n",
      "|One of The Greate...|   2271503|\n",
      "+--------------------+----------+\n",
      "\n"
     ]
    }
   ],
   "source": [
    "# 3. Which five videos have the highest number of views? List their titles and view counts.\n",
    "top_views_pd = df_pd.nlargest(5, \"view_count\")[[\"title\", \"view_count\"]]\n",
    "print(f\"[Pandas] Top 5 videos by view count: {top_views_pd.to_string(index=False)}\")\n",
    "\n",
    "top_views_sp = (\n",
    "    df_sp.select(\"title\", \"view_count\").orderBy(sf.desc(\"view_count\")).limit(5)\n",
    ")\n",
    "print(\"[Spark] Top 5 videos by view count:\")\n",
    "top_views_sp.show()"
   ]
  },
  {
   "cell_type": "code",
   "execution_count": 12,
   "id": "e897c345",
   "metadata": {},
   "outputs": [
    {
     "name": "stdout",
     "output_type": "stream",
     "text": [
      "[Pandas] Average likes per upload year:\n",
      " year_uploaded  like_count\n",
      "          2020    705409.0\n",
      "          2018    366570.0\n",
      "          2016    270825.0\n",
      "          2025    108317.0\n",
      "          2022     19761.5\n",
      "          2023      3900.0\n",
      "          2019       811.0\n",
      "[Spark] Average likes per upload year:\n",
      "+-------------+-------------+\n",
      "|year_uploaded|average_likes|\n",
      "+-------------+-------------+\n",
      "|         2020|     705409.0|\n",
      "|         2018|     366570.0|\n",
      "|         2016|     270825.0|\n",
      "|         2025|     108317.0|\n",
      "|         2022|      19761.5|\n",
      "|         2023|       3900.0|\n",
      "|         2019|        811.0|\n",
      "+-------------+-------------+\n",
      "\n"
     ]
    }
   ],
   "source": [
    "# 4. For each upload year, what is the average number of likes?\n",
    "average_likes_per_year_pd = (\n",
    "    df_pd.groupby(\"year_uploaded\")[\"like_count\"].mean().reset_index()\n",
    ")\n",
    "average_likes_per_year_pd = average_likes_per_year_pd.sort_values(\n",
    "    by=\"like_count\", ascending=False\n",
    ")\n",
    "print(\n",
    "    f\"[Pandas] Average likes per upload year:\\n{average_likes_per_year_pd.to_string(index=False)}\"\n",
    ")\n",
    "\n",
    "average_likes_per_year_sp = df_sp.groupBy(\"year_uploaded\").agg(\n",
    "    sf.mean(\"like_count\").alias(\"average_likes\")\n",
    ")\n",
    "average_likes_per_year_sp = average_likes_per_year_sp.orderBy(sf.desc(\"average_likes\"))\n",
    "print(\"[Spark] Average likes per upload year:\")\n",
    "average_likes_per_year_sp.show()"
   ]
  },
  {
   "cell_type": "code",
   "execution_count": 13,
   "id": "a6914ec9",
   "metadata": {},
   "outputs": [
    {
     "name": "stdout",
     "output_type": "stream",
     "text": [
      "[Pandas] Number of videos missing artist information: 10\n",
      "[Spark] Number of videos missing artist information: 10\n"
     ]
    }
   ],
   "source": [
    "# 5. How many videos are missing artist information?\n",
    "missing_artist_count_pd = df_pd[\"artist\"].isnull().sum()\n",
    "print(\n",
    "    f\"[Pandas] Number of videos missing artist information: {missing_artist_count_pd}\"\n",
    ")\n",
    "\n",
    "missing_artist_count_sp = df_sp.filter(sf.col(\"artist\").isNull()).count()\n",
    "print(f\"[Spark] Number of videos missing artist information: {missing_artist_count_sp}\")"
   ]
  },
  {
   "cell_type": "markdown",
   "id": "27556809",
   "metadata": {},
   "source": [
    "3.2 Tag and content characteristics"
   ]
  },
  {
   "cell_type": "code",
   "execution_count": 14,
   "id": "50b26314",
   "metadata": {},
   "outputs": [
    {
     "data": {
      "image/png": "[encoded data removed]",
      "text/plain": [
       "<Figure size 600x400 with 1 Axes>"
      ]
     },
     "metadata": {},
     "output_type": "display_data"
    }
   ],
   "source": [
    "# 1. How many tags does each video have? Visualize the distribution using a histogram.\n",
    "plt.figure(figsize=(6, 4))\n",
    "bars = plt.bar(df_pd[\"legible_title\"], df_pd[\"tag_count\"])\n",
    "plt.title(\"Tag count distribution\")\n",
    "plt.xlabel(\"Video\")\n",
    "plt.ylabel(\"Number of Tags\")\n",
    "plt.xticks(rotation=45, ha=\"right\")\n",
    "plt.bar_label(\n",
    "    bars, fmt=\"%d\", label_type=\"center\", color=\"white\", fontsize=9, fontweight=\"bold\"\n",
    ")\n",
    "plt.tight_layout()\n",
    "plt.show()"
   ]
  },
  {
   "cell_type": "code",
   "execution_count": 15,
   "id": "ff95f5c8",
   "metadata": {},
   "outputs": [
    {
     "name": "stdout",
     "output_type": "stream",
     "text": [
      "[Pandas] Total views per uploader:\n",
      "               uploader  total_views\n",
      "          Chappell Roan     86221274\n",
      "          Fleetwood Mac     48858370\n",
      "        Charlie Chaplin      9752840\n",
      "STILL I RISE Motivation      2271503\n",
      "    Saturday Night Live      1268429\n",
      "               Yard Act       826851\n",
      "       lizlawrencemusic        49610\n",
      "    FOX 29 Philadelphia        31701\n",
      "            Mega Shortz         5772\n",
      "[Spark] Total views per uploader:\n",
      "+--------------------+-----------+\n",
      "|            uploader|total_views|\n",
      "+--------------------+-----------+\n",
      "|       Chappell Roan|   86221274|\n",
      "|       Fleetwood Mac|   48858370|\n",
      "|     Charlie Chaplin|    9752840|\n",
      "|STILL I RISE Moti...|    2271503|\n",
      "| Saturday Night Live|    1268429|\n",
      "|            Yard Act|     826851|\n",
      "|    lizlawrencemusic|      49610|\n",
      "| FOX 29 Philadelphia|      31701|\n",
      "|         Mega Shortz|       5772|\n",
      "+--------------------+-----------+\n",
      "\n"
     ]
    }
   ],
   "source": [
    "# 2. What is the total number of views per uploader? Rank the results in descending order.\n",
    "total_views_per_uploader_pd = (\n",
    "    df_pd.groupby(\"uploader\").agg(total_views=(\"view_count\", \"sum\")).reset_index()\n",
    ")\n",
    "total_views_per_uploader_pd = total_views_per_uploader_pd.sort_values(\n",
    "    by=\"total_views\", ascending=False\n",
    ")\n",
    "print(\n",
    "    f\"[Pandas] Total views per uploader:\\n{total_views_per_uploader_pd.to_string(index=False)}\"\n",
    ")\n",
    "\n",
    "total_views_per_uploader_sp = df_sp.groupBy(\"uploader\").agg(\n",
    "    sf.sum(\"view_count\").alias(\"total_views\")\n",
    ")\n",
    "total_views_per_uploader_sp = total_views_per_uploader_sp.orderBy(\n",
    "    sf.desc(\"total_views\")\n",
    ")\n",
    "print(\"[Spark] Total views per uploader:\")\n",
    "total_views_per_uploader_sp.show()"
   ]
  },
  {
   "cell_type": "code",
   "execution_count": 16,
   "id": "35e50c57",
   "metadata": {},
   "outputs": [
    {
     "name": "stdout",
     "output_type": "stream",
     "text": [
      "[Pandas] Longest video: Oprah Winfrey Interview With Prince Harry and Meghan Markle   Full Interview with duration 5094 seconds\n",
      "[Spark] Longest video:\n",
      "+--------------------+----------------+\n",
      "|               title|duration_seconds|\n",
      "+--------------------+----------------+\n",
      "|Oprah Winfrey Int...|            5094|\n",
      "+--------------------+----------------+\n",
      "\n"
     ]
    }
   ],
   "source": [
    "# 3. Which video has the longest duration? List the title and its duration.\n",
    "longest_video_pd = df_pd.loc[\n",
    "    df_pd[\"duration_seconds\"].idxmax(), [\"title\", \"duration_seconds\"]\n",
    "]\n",
    "print(\n",
    "    f\"[Pandas] Longest video: {longest_video_pd['title']} with duration {longest_video_pd['duration_seconds']} seconds\"\n",
    ")\n",
    "\n",
    "longest_video_sp = (\n",
    "    df_sp.orderBy(sf.desc(\"duration_seconds\"))\n",
    "    .select(\"title\", \"duration_seconds\")\n",
    "    .limit(1)\n",
    ")\n",
    "print(\"[Spark] Longest video:\")\n",
    "longest_video_sp.show()"
   ]
  },
  {
   "cell_type": "code",
   "execution_count": 17,
   "id": "13467299",
   "metadata": {},
   "outputs": [
    {
     "name": "stdout",
     "output_type": "stream",
     "text": [
      "[Pandas] Number of videos uploaded per year:\n",
      " year_uploaded  video_count\n",
      "          2016            1\n",
      "          2018            1\n",
      "          2019            1\n",
      "          2020            1\n",
      "          2022            2\n",
      "          2023            2\n",
      "          2025            2\n",
      "[Spark] Number of videos uploaded per year:\n",
      "+-------------+-----+\n",
      "|year_uploaded|count|\n",
      "+-------------+-----+\n",
      "|         2016|    1|\n",
      "|         2018|    1|\n",
      "|         2019|    1|\n",
      "|         2020|    1|\n",
      "|         2022|    2|\n",
      "|         2023|    2|\n",
      "|         2025|    2|\n",
      "+-------------+-----+\n",
      "\n"
     ]
    }
   ],
   "source": [
    "# 4. How many videos were uploaded in each year? Present the results sorted by year.\n",
    "videos_per_year_pd = df_pd[\"year_uploaded\"].value_counts().reset_index()\n",
    "videos_per_year_pd.columns = [\"year_uploaded\", \"video_count\"]\n",
    "videos_per_year_pd = videos_per_year_pd.sort_values(by=\"year_uploaded\")\n",
    "print(\n",
    "    f\"[Pandas] Number of videos uploaded per year:\\n{videos_per_year_pd.to_string(index=False)}\"\n",
    ")\n",
    "\n",
    "videos_per_year_sp = df_sp.groupBy(\"year_uploaded\").count().orderBy(\"year_uploaded\")\n",
    "print(\"[Spark] Number of videos uploaded per year:\")\n",
    "videos_per_year_sp.show()"
   ]
  },
  {
   "cell_type": "code",
   "execution_count": 18,
   "id": "0d363ecf",
   "metadata": {},
   "outputs": [
    {
     "name": "stdout",
     "output_type": "stream",
     "text": [
      "[Pandas] The correlation between views and likes is 0.95, this is a strong positive correlation.\n",
      "[Spark] The correlation between views and likes is 0.95, this is a strong positive correlation.\n"
     ]
    }
   ],
   "source": [
    "# 5. Is there a correlation between the number of views and the number of likes? Feel free to drop or filter rows with missing or zero values before computing correlation.\n",
    "correlation_pd = df_pd[[\"view_count\", \"like_count\"]].dropna().corr().iloc[0, 1]\n",
    "\n",
    "if correlation_pd > 0.8:\n",
    "    assessment_pd = \"strong positive correlation\"\n",
    "elif correlation_pd < -0.8:\n",
    "    assessment_pd = \"strong negative correlation\"\n",
    "else:\n",
    "    assessment_pd = \"weak or no correlation\"\n",
    "\n",
    "print(\n",
    "    f\"[Pandas] The correlation between views and likes is {correlation_pd:.2f}, this is a {assessment_pd}.\"\n",
    ")\n",
    "\n",
    "correlation_sp = df_sp.select(\"view_count\", \"like_count\").na.drop()\n",
    "correlation_sp = correlation_sp.stat.corr(\"view_count\", \"like_count\")\n",
    "\n",
    "if correlation_sp > 0.8:\n",
    "    assessment_sp = \"strong positive correlation\"\n",
    "elif correlation_sp < -0.8:\n",
    "    assessment_sp = \"strong negative correlation\"\n",
    "else:\n",
    "    assessment_sp = \"weak or no correlation\"\n",
    "print(\n",
    "    f\"[Spark] The correlation between views and likes is {correlation_sp:.2f}, this is a {assessment_sp}.\"\n",
    ")"
   ]
  },
  {
   "cell_type": "markdown",
   "id": "3ad41c8b",
   "metadata": {},
   "source": [
    "3.3 Derived Metrics & Custom Analysis"
   ]
  },
  {
   "cell_type": "code",
   "execution_count": 19,
   "id": "c1b0ed21",
   "metadata": {},
   "outputs": [
    {
     "name": "stdout",
     "output_type": "stream",
     "text": [
      "[Pandas] Video with highest likes per second: Chappell Roan - Pink Pony Club (Official Music Video) with 2519.32 likes/second.\n",
      "[Spark] Video with highest likes per second:\n",
      "+--------------------+-----------------+\n",
      "|               title| likes_per_second|\n",
      "+--------------------+-----------------+\n",
      "|Chappell Roan - P...|2519.317857142857|\n",
      "+--------------------+-----------------+\n",
      "\n"
     ]
    }
   ],
   "source": [
    "# 1. Which video has the highest number of likes per second of duration?\n",
    "highest_likes_per_second_pd = (\n",
    "    df_pd.assign(likes_per_second=lambda x: x[\"like_count\"] / x[\"duration_seconds\"])\n",
    "    .loc[df_pd[\"like_count\"] > 0]\n",
    "    .nlargest(1, \"likes_per_second\")[[\"title\", \"likes_per_second\"]]\n",
    ")\n",
    "print(\n",
    "    f\"[Pandas] Video with highest likes per second: {highest_likes_per_second_pd['title'].values[0]} with {highest_likes_per_second_pd['likes_per_second'].values[0]:.2f} likes/second.\"\n",
    ")\n",
    "\n",
    "highest_likes_per_second_sp = df_sp.withColumn(\n",
    "    \"likes_per_second\", sf.col(\"like_count\") / sf.col(\"duration_seconds\")\n",
    ")\n",
    "highest_likes_per_second_sp = highest_likes_per_second_sp.filter(\n",
    "    sf.col(\"like_count\") > 0\n",
    ")\n",
    "highest_likes_per_second_sp = (\n",
    "    highest_likes_per_second_sp.orderBy(sf.desc(\"likes_per_second\"))\n",
    "    .select(\"title\", \"likes_per_second\")\n",
    "    .limit(1)\n",
    ")\n",
    "print(\"[Spark] Video with highest likes per second:\")\n",
    "highest_likes_per_second_sp.show()"
   ]
  },
  {
   "cell_type": "code",
   "execution_count": 20,
   "id": "9aba9e3d",
   "metadata": {},
   "outputs": [
    {
     "name": "stdout",
     "output_type": "stream",
     "text": [
      "[Pandas] Uploader with longest total duration: Mega Shortz with 5094 seconds.\n",
      "[Spark] Uploader with longest total duration:\n",
      "+-----------+--------------+\n",
      "|   uploader|total_duration|\n",
      "+-----------+--------------+\n",
      "|Mega Shortz|          5094|\n",
      "+-----------+--------------+\n",
      "\n"
     ]
    }
   ],
   "source": [
    "# 2. Which uploader has the longest total duration of all their uploaded videos combined?\n",
    "longest_total_duration_uploader_pd = (\n",
    "    df_pd.groupby(\"uploader\")[\"duration_seconds\"].sum().reset_index()\n",
    ")\n",
    "longest_total_duration_uploader_pd = longest_total_duration_uploader_pd.loc[\n",
    "    longest_total_duration_uploader_pd[\"duration_seconds\"].idxmax()\n",
    "]\n",
    "print(\n",
    "    f\"[Pandas] Uploader with longest total duration: {longest_total_duration_uploader_pd['uploader']} with {longest_total_duration_uploader_pd['duration_seconds']} seconds.\"\n",
    ")\n",
    "\n",
    "longest_total_duration_uploader_sp = df_sp.groupBy(\"uploader\").agg(\n",
    "    sf.sum(\"duration_seconds\").alias(\"total_duration\")\n",
    ")\n",
    "longest_total_duration_uploader_sp = (\n",
    "    longest_total_duration_uploader_sp.orderBy(sf.desc(\"total_duration\"))\n",
    "    .select(\"uploader\", \"total_duration\")\n",
    "    .limit(1)\n",
    ")\n",
    "print(\"[Spark] Uploader with longest total duration:\")\n",
    "longest_total_duration_uploader_sp.show()"
   ]
  },
  {
   "cell_type": "code",
   "execution_count": 25,
   "id": "6edd2b02",
   "metadata": {},
   "outputs": [
    {
     "name": "stdout",
     "output_type": "stream",
     "text": [
      "[Pandas] Views to likes ratio for each video:\n",
      "                                                                         title  views_to_likes_ratio\n",
      "                         Chappell Roan - Pink Pony Club (Official Music Video)                111.83\n",
      "                              Chappell Roan - The Giver (Official Lyric Video)                 33.90\n",
      "                        Charlie Chaplin - Final Speech from The Great Dictator                 36.01\n",
      "                   Fleetwood Mac - Silver Springs (Live) (Official Video) [HD]                133.29\n",
      "                                             Liz Lawrence - None Of My Friends                 61.17\n",
      "One of The Greatest Speeches Ever by President Obama | Best Eye Opening Speech                 81.97\n",
      "  Oprah Winfrey Interview With Prince Harry and Meghan Markle   Full Interview                274.86\n",
      "                                                Saturday Night Live Duos - SNL                163.06\n",
      "Trump swearing video: Says Iran, Israel ‘don’t know what the f—’ they’re doing                142.16\n",
      "                                                     Yard Act - 100% Endurance                 70.00\n",
      "[Spark] Views to likes ratio for each video:\n"
     ]
    },
    {
     "name": "stdout",
     "output_type": "stream",
     "text": [
      "+------------------------------------------------------------------------------+--------------------+\n",
      "|title                                                                         |views_to_likes_ratio|\n",
      "+------------------------------------------------------------------------------+--------------------+\n",
      "|Chappell Roan - Pink Pony Club (Official Music Video)                         |111.83              |\n",
      "|Chappell Roan - The Giver (Official Lyric Video)                              |33.9                |\n",
      "|Charlie Chaplin - Final Speech from The Great Dictator                        |36.01               |\n",
      "|Fleetwood Mac - Silver Springs (Live) (Official Video) [HD]                   |133.29              |\n",
      "|Liz Lawrence - None Of My Friends                                             |61.17               |\n",
      "|One of The Greatest Speeches Ever by President Obama | Best Eye Opening Speech|81.97               |\n",
      "|Oprah Winfrey Interview With Prince Harry and Meghan Markle   Full Interview  |274.86              |\n",
      "|Saturday Night Live Duos - SNL                                                |163.06              |\n",
      "|Trump swearing video: Says Iran, Israel ‘don’t know what the f—’ they’re doing|142.16              |\n",
      "|Yard Act - 100% Endurance                                                     |70.0                |\n",
      "+------------------------------------------------------------------------------+--------------------+\n",
      "\n"
     ]
    }
   ],
   "source": [
    "# 3. What is the ratio of views to likes for each video?\n",
    "views_to_likes_ratio_pd = (\n",
    "    df_pd.assign(views_to_likes_ratio=lambda x: x[\"view_count\"] / x[\"like_count\"])\n",
    "    .loc[df_pd[\"like_count\"] > 0][[\"title\", \"views_to_likes_ratio\"]]\n",
    "    .round(2)\n",
    ")\n",
    "print(\n",
    "    f\"[Pandas] Views to likes ratio for each video:\\n{views_to_likes_ratio_pd.to_string(index=False)}\"\n",
    ")\n",
    "\n",
    "views_to_likes_ratio_sp = df_sp.withColumn(\n",
    "    \"views_to_likes_ratio\", sf.round(sf.col(\"view_count\") / sf.col(\"like_count\"), 2)\n",
    ")\n",
    "views_to_likes_ratio_sp = views_to_likes_ratio_sp.filter(sf.col(\"like_count\") > 0)\n",
    "views_to_likes_ratio_sp = views_to_likes_ratio_sp.select(\n",
    "    \"title\", \"views_to_likes_ratio\"\n",
    ")\n",
    "print(\"[Spark] Views to likes ratio for each video:\")\n",
    "views_to_likes_ratio_sp.show(truncate=False)"
   ]
  },
  {
   "cell_type": "code",
   "execution_count": null,
   "id": "c8a60e2b",
   "metadata": {},
   "outputs": [],
   "source": []
  }
 ],
 "metadata": {
  "kernelspec": {
   "display_name": ".bda",
   "language": "python",
   "name": "python3"
  },
  "language_info": {
   "codemirror_mode": {
    "name": "ipython",
    "version": 3
   },
   "file_extension": ".py",
   "mimetype": "text/x-python",
   "name": "python",
   "nbconvert_exporter": "python",
   "pygments_lexer": "ipython3",
   "version": "3.13.3"
  }
 },
 "nbformat": 4,
 "nbformat_minor": 5
}
