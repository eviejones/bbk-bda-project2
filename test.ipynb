{
 "cells": [
  {
   "cell_type": "code",
   "execution_count": null,
   "id": "6edacba1",
   "metadata": {},
   "outputs": [],
   "source": [
    "from extract_videos import load_txt\n",
    "from parallel_processing import download_parallel\n",
    "from serial_processing import download_serial"
   ]
  },
  {
   "cell_type": "code",
   "execution_count": 2,
   "id": "b93c3465",
   "metadata": {},
   "outputs": [],
   "source": [
    "youtube_urls = load_txt(\"video_urls.txt\")"
   ]
  },
  {
   "cell_type": "code",
   "execution_count": 3,
   "id": "627f1e1f",
   "metadata": {},
   "outputs": [
    {
     "name": "stdout",
     "output_type": "stream",
     "text": [
      "\n",
      "🎵 Downloading: https://www.youtube.com/watch?v=J7GY1Xg6X20\n",
      "✅ Done: Charlie Chaplin - Final Speech from The Great Dictator\n",
      "📄 Metadata: audio_output\\Charlie Chaplin - Final Speech from The Great Dictator.json\n",
      "\n",
      "🎵 Downloading: https://www.youtube.com/watch?v=eDwi-8n054s\n",
      "✅ Done: Fleetwood Mac - Silver Springs (Live) (Official Video) [HD]\n",
      "📄 Metadata: audio_output\\Fleetwood Mac - Silver Springs Live Official Video HD.json\n",
      "\n",
      "🎵 Downloading: https://www.youtube.com/watch?v=EHJy9mLTUeY\n",
      "✅ Done: Trump swearing video: Says Iran, Israel ‘don’t know what the f—’ they’re doing\n",
      "📄 Metadata: audio_output\\Trump swearing video Says Iran Israel dont know what the f theyre doing.json\n",
      "\n",
      "🎵 Downloading: https://www.youtube.com/watch?v=8Ad5WHtYjw4\n",
      "✅ Done: Top 5 Most-Watched Live Sketches | Season 49 | Saturday Night Live\n",
      "📄 Metadata: audio_output\\Top 5 Most-Watched Live Sketches  Season 49  Saturday Night Live.json\n",
      "\n",
      "🎵 Downloading: https://www.youtube.com/watch?v=iUohO2MSot8\n",
      "✅ Done: Mozart - Classical Music for Brain Power\n",
      "📄 Metadata: audio_output\\Mozart - Classical Music for Brain Power.json\n",
      "\n",
      "🎵 Downloading: https://www.youtube.com/watch?v=DubtPdXXjew\n",
      "✅ Done: Chappell Roan - The Giver (Official Lyric Video)\n",
      "📄 Metadata: audio_output\\Chappell Roan - The Giver Official Lyric Video.json\n",
      "\n",
      "🎵 Downloading: https://www.youtube.com/watch?v=NaaSpRMBHjg\n",
      "✅ Done: One of The Greatest Speeches Ever by President Obama | Best Eye Opening Speech\n",
      "📄 Metadata: audio_output\\One of The Greatest Speeches Ever by President Obama  Best Eye Opening Speech.json\n",
      "\n",
      "🎵 Downloading: https://www.youtube.com/watch?v=phSkbBZelCw\n",
      "✅ Done: Yard Act - 100% Endurance\n",
      "📄 Metadata: audio_output\\Yard Act - 100 Endurance.json\n",
      "\n",
      "🎵 Downloading: https://www.youtube.com/watch?v=GkRNgwlA5NE\n",
      "✅ Done: Liz Lawrence - None Of My Friends\n",
      "📄 Metadata: audio_output\\Liz Lawrence - None Of My Friends.json\n",
      "\n",
      "🎵 Downloading: https://www.youtube.com/watch?v=7wmSWsmyGpw\n",
      "✅ Done: Oprah Winfrey Interview With Prince Harry and Meghan Markle   Full Interview\n",
      "📄 Metadata: audio_output\\Oprah Winfrey Interview With Prince Harry and Meghan Markle   Full Interview.json\n",
      "\n",
      "🎯 Download Summary:\n",
      "   ✅ Successful: 1\n",
      "   ❌ Failed: 0\n",
      "   ⏱️  Total time: 55.41 seconds\n"
     ]
    }
   ],
   "source": [
    "download_serial(youtube_urls)"
   ]
  },
  {
   "cell_type": "code",
   "execution_count": 4,
   "id": "f2dbbf19",
   "metadata": {},
   "outputs": [
    {
     "name": "stdout",
     "output_type": "stream",
     "text": [
      "🚀 Starting parallel downloads with 5 threads...\n",
      "\n",
      "🎵 [ThreadPoolExecutor-0_0] Downloading: https://www.youtube.com/watch?v=J7GY1Xg6X20\n",
      "\n",
      "🎵 [ThreadPoolExecutor-0_1] Downloading: https://www.youtube.com/watch?v=eDwi-8n054s\n",
      "\n",
      "🎵 [ThreadPoolExecutor-0_2] Downloading: https://www.youtube.com/watch?v=EHJy9mLTUeY\n",
      "\n",
      "🎵 [ThreadPoolExecutor-0_3] Downloading: https://www.youtube.com/watch?v=8Ad5WHtYjw4\n",
      "\n",
      "🎵 [ThreadPoolExecutor-0_4] Downloading: https://www.youtube.com/watch?v=iUohO2MSot8\n",
      "✅ [ThreadPoolExecutor-0_3] Done: Top 5 Most-Watched Live Sketches | Season 49 | Saturday Night Live\n",
      "📄 Metadata: audio_output\\Top 5 Most-Watched Live Sketches  Season 49  Saturday Night Live.json\n",
      "\n",
      "🎵 [ThreadPoolExecutor-0_3] Downloading: https://www.youtube.com/watch?v=DubtPdXXjew\n",
      "✅ [ThreadPoolExecutor-0_4] Done: Mozart - Classical Music for Brain Power\n",
      "📄 Metadata: audio_output\\Mozart - Classical Music for Brain Power.json\n",
      "\n",
      "🎵 [ThreadPoolExecutor-0_4] Downloading: https://www.youtube.com/watch?v=NaaSpRMBHjg\n",
      "✅ [ThreadPoolExecutor-0_1] Done: Fleetwood Mac - Silver Springs (Live) (Official Video) [HD]\n",
      "📄 Metadata: audio_output\\Fleetwood Mac - Silver Springs Live Official Video HD.json\n",
      "\n",
      "🎵 [ThreadPoolExecutor-0_1] Downloading: https://www.youtube.com/watch?v=phSkbBZelCw\n",
      "✅ [ThreadPoolExecutor-0_0] Done: Charlie Chaplin - Final Speech from The Great Dictator\n",
      "📄 Metadata: audio_output\\Charlie Chaplin - Final Speech from The Great Dictator.json\n",
      "\n",
      "🎵 [ThreadPoolExecutor-0_0] Downloading: https://www.youtube.com/watch?v=GkRNgwlA5NE\n",
      "✅ [ThreadPoolExecutor-0_2] Done: Trump swearing video: Says Iran, Israel ‘don’t know what the f—’ they’re doing\n",
      "📄 Metadata: audio_output\\Trump swearing video Says Iran Israel dont know what the f theyre doing.json\n",
      "\n",
      "🎵 [ThreadPoolExecutor-0_2] Downloading: https://www.youtube.com/watch?v=7wmSWsmyGpw\n",
      "✅ [ThreadPoolExecutor-0_3] Done: Chappell Roan - The Giver (Official Lyric Video)\n",
      "📄 Metadata: audio_output\\Chappell Roan - The Giver Official Lyric Video.json\n",
      "✅ [ThreadPoolExecutor-0_4] Done: One of The Greatest Speeches Ever by President Obama | Best Eye Opening Speech\n",
      "📄 Metadata: audio_output\\One of The Greatest Speeches Ever by President Obama  Best Eye Opening Speech.json\n",
      "✅ [ThreadPoolExecutor-0_2] Done: Oprah Winfrey Interview With Prince Harry and Meghan Markle   Full Interview\n",
      "📄 Metadata: audio_output\\Oprah Winfrey Interview With Prince Harry and Meghan Markle   Full Interview.json\n",
      "✅ [ThreadPoolExecutor-0_1] Done: Yard Act - 100% Endurance\n",
      "📄 Metadata: audio_output\\Yard Act - 100 Endurance.json\n",
      "✅ [ThreadPoolExecutor-0_0] Done: Liz Lawrence - None Of My Friends\n",
      "📄 Metadata: audio_output\\Liz Lawrence - None Of My Friends.json\n",
      "\n",
      "🎯 Download Summary:\n",
      "   ✅ Successful: 10\n",
      "   ❌ Failed: 0\n",
      "   ⏱️  Total time: 43.72 seconds\n"
     ]
    }
   ],
   "source": [
    "download_parallel(youtube_urls)\n"
   ]
  },
  {
   "cell_type": "code",
   "execution_count": null,
   "id": "b3482bfd",
   "metadata": {},
   "outputs": [],
   "source": []
  }
 ],
 "metadata": {
  "kernelspec": {
   "display_name": ".bda",
   "language": "python",
   "name": "python3"
  },
  "language_info": {
   "codemirror_mode": {
    "name": "ipython",
    "version": 3
   },
   "file_extension": ".py",
   "mimetype": "text/x-python",
   "name": "python",
   "nbconvert_exporter": "python",
   "pygments_lexer": "ipython3",
   "version": "3.13.3"
  }
 },
 "nbformat": 4,
 "nbformat_minor": 5
}
